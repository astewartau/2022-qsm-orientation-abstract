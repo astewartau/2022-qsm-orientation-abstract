{
 "cells": [
  {
   "cell_type": "markdown",
   "metadata": {},
   "source": [
    "# Automatically Resampling Oblique-Acquired MRI to Enable Robust and Accurate QSM Algorithms\n",
    "\n",
    "Ashley Stewart<sup>1</sup>, Korbinian Eckstein<sup>1</sup>, Thanh Thuy Dao<sup>1</sup>, Kieran O’Brien<sup>2</sup>, Josef Pfeuffer<sup>2</sup>, Jin Jin<sup>2</sup>, Markus Barth<sup>1</sup>, Steffen Bollmann<sup>1</sup>\n",
    "\n",
    "<sup>1</sup>School of Information Technology and Electrical Engineering, The University of Queensland, Brisbane, Australia; \n",
    "\n",
    "<sup>2</sup>Siemens Healthineers Pty Ltd., Brisbane, Australia"
   ]
  },
  {
   "cell_type": "markdown",
   "metadata": {},
   "source": [
    "## Introduction\n",
    "\n",
    "In an MRI acquisition, oblique slice orientations are often used to visualise clinically relevant anatomical regions and optimise the scanning field of view and duration. In Quantitative Susceptibility Mapping (QSM), which aims to estimate the magnetic susceptibility of tissues, many emerging algorithms assume that the main magnetic field is oriented axially through the imaging volume, which is not the case for oblique acquisitions. This assumption prevents accurate susceptibility quantification and introduces pervasive artefacts in susceptibility maps, limiting the practical uptake of the method. Recent work has identified resampling slices to an axial orientation prior to QSM processing as a solution<sup>1</sup>. In this work, we implement this rotate-and-resample method to enable automated processing of oblique acquisitions and publish it as part of the QSMxT software toolbox<sup>2,3</sup>. We test the implementation in silico using the QSM challenge head phantom, measuring differences in the effect of orientation on susceptibility quantification across brain regions, identifying that small sources such as veins remain challenging to quantify accurately after resampling."
   ]
  },
  {
   "cell_type": "code",
   "execution_count": null,
   "metadata": {},
   "outputs": [],
   "source": [
    "# Necessary imports\n",
    "import os\n",
    "import glob\n",
    "import tempfile\n",
    "import numpy as np\n",
    "import pandas as pd\n",
    "import nibabel as nib\n",
    "import seaborn as sns\n",
    "import abstract_functions as fn\n",
    "from matplotlib import pyplot as plt\n",
    "from sklearn.metrics import mean_squared_error as mse"
   ]
  },
  {
   "cell_type": "markdown",
   "metadata": {},
   "source": [
    "## Methods\n",
    "\n",
    "### Data\n",
    "\n",
    "The QSM challenge 2.0 *in silico* head phantom<sup>4</sup> was used for this experiment and is based on a segmented MP2RAGE dataset with 0.64 mm<sup>3</sup> isotropic resolution down-sampled to 1 mm<sup>3</sup> using k-space cropping and TEs=4/12/20/28 ms. The magnitude and phase were augmented by rotation about the $x$-axis to produce new datasets with effective B<sub>0</sub> directions at 5° increments up to 45°."
   ]
  },
  {
   "cell_type": "code",
   "execution_count": null,
   "metadata": {},
   "outputs": [],
   "source": [
    "# Download input data\n",
    "bids_dir = fn.get_bids_data()\n",
    "print(f\"Downloaded in silico head phantom data to {bids_dir}.\")"
   ]
  },
  {
   "cell_type": "code",
   "execution_count": null,
   "metadata": {},
   "outputs": [],
   "source": [
    "# Acquisition and reconstruction parameters\n",
    "echo_times = [0.004, 0.012, 0.020, 0.028]\n",
    "magnetic_field_strength = 3\n",
    "tgvqsm_erosions = 3\n",
    "bet_fractional_intensity = 0.5"
   ]
  },
  {
   "cell_type": "code",
   "execution_count": null,
   "metadata": {},
   "outputs": [],
   "source": [
    "# Get relevant paths and find input images\n",
    "session_path = os.path.join(bids_dir, \"sub-1\", \"ses-1\")\n",
    "anat_path = os.path.join(session_path, \"anat\")\n",
    "extra_data_path = os.path.join(session_path, \"extra_data\")\n",
    "chi_file = os.path.join(extra_data_path, \"sub-1_ses-1_run-01_chi-cropped.nii.gz\")\n",
    "segmentation_file = os.path.join(extra_data_path, \"sub-1_ses-1_run-01_segmentation.nii.gz\")\n",
    "mag_files = sorted(glob.glob(os.path.join(anat_path, \"sub-1_ses-1_run-01_echo-*_part-mag_MEGRE.nii.gz\")))\n",
    "pha_files = sorted(glob.glob(os.path.join(anat_path, \"sub-1_ses-1_run-01_echo-*_part-phase_MEGRE.nii.gz\")))\n",
    "assert(len(mag_files) == len(pha_files))\n",
    "tmp_dir = tempfile.gettempdir()\n",
    "print(f\"Found {len(mag_files)} magnitude and phase image pairs.\")"
   ]
  },
  {
   "cell_type": "code",
   "execution_count": null,
   "metadata": {},
   "outputs": [],
   "source": [
    "# View some input data\n",
    "fn.display_nii(mag_files[0], title=f'Magnitude (TE={echo_times[0]})', cmap='gray', interpolation='nearest')\n",
    "fn.display_nii(pha_files[0], title=f'Phase (TE={echo_times[0]})', cmap='gray', interpolation='nearest')"
   ]
  },
  {
   "cell_type": "code",
   "execution_count": null,
   "metadata": {},
   "outputs": [],
   "source": [
    "# Create augmented (rotated) data\n",
    "degrees = [1, 2, 3, 4, 5, 10, 15, 20, 25, 30, 35, 40, 45]\n",
    "for d in degrees:\n",
    "    print(f\"Creating rotated input images ({d}°)\")\n",
    "    out_dir = os.path.join(tmp_dir, f\"inputs-rotated-{d}-degrees\")\n",
    "    mag_rotated, pha_rotated = fn.rotate_mag_phase(mag_files, pha_files, out_dir, d)"
   ]
  },
  {
   "cell_type": "code",
   "execution_count": null,
   "metadata": {},
   "outputs": [],
   "source": [
    "# View some of the augmented data\n",
    "fn.display_nii(mag_rotated[0], title=f'Magnitude (TE={echo_times[0]}; rotated {degrees[-1]}°)', cmap='gray', interpolation='nearest')\n",
    "fn.display_nii(pha_rotated[0], title=f'Phase (TE={echo_times[0]}; rotated {degrees[-1]}°)', cmap='gray', interpolation='nearest')"
   ]
  },
  {
   "cell_type": "markdown",
   "metadata": {},
   "source": [
    "### Processing\n",
    "\n",
    "Magnitude and phase data were resampled to an axial affine through the complex domain using nilearn prior to QSM processing using TGV-QSM5. The susceptibility maps were then resampled back to the original orientation. In QSMxT, this process occurs automatically when the obliquity, measured using nibabel, is greater than a user-defined threshold."
   ]
  },
  {
   "cell_type": "code",
   "execution_count": null,
   "metadata": {},
   "outputs": [],
   "source": [
    "# First process the original (0-degrees rotated) data\n",
    "print(\"BET masking for original data...\")\n",
    "mask_file = fn.bet_masking(mag_files[0], bet_fractional_intensity, extra_data_path)\n",
    "print(\"QSM reconstruction for original data...\")\n",
    "qsm_average_file = fn.tgv_qsm_me(mask_file, pha_files, echo_times, magnetic_field_strength, tgvqsm_erosions, extra_data_path)\n",
    "fn.display_nii(mask_file, title='Mask (original)', cmap='gray', interpolation='nearest')\n",
    "fn.display_nii(qsm_average_file, title='QSM (original)', cmap='gray', vmin=-0.05, vmax=+0.05, interpolation='nearest')"
   ]
  },
  {
   "cell_type": "code",
   "execution_count": null,
   "metadata": {},
   "outputs": [],
   "source": [
    "# Now process the augmented/rotated data\n",
    "result_files = { }\n",
    "for d in degrees:\n",
    "    out_dir = os.path.join(extra_data_path, f\"inputs-rotated-{d}-degrees\")\n",
    "    mag_rotated, pha_rotated = fn.rotate_mag_phase(mag_files, pha_files, out_dir, d)\n",
    "    mag_rotated_axial, pha_rotated_axial = fn.resample_to_axial(mag_rotated, pha_rotated, out_dir)\n",
    "\n",
    "    print(f\"Reconstructing QSM for {d}° rotated images...\")\n",
    "    mask_rotated = fn.bet_masking(mag_rotated[0], bet_fractional_intensity, out_dir)\n",
    "    qsm_rotated_average = fn.tgv_qsm_me(mask_rotated, pha_rotated, echo_times, magnetic_field_strength, tgvqsm_erosions, out_dir)\n",
    "    qsm_rotated_average_resampled_file = fn.resample_like(qsm_rotated_average, mag_files[0])\n",
    "    print(f\"Reconstructing QSM for {d}° backsampled images...\")\n",
    "    mask_rotated_axial = fn.bet_masking(mag_rotated_axial[0], bet_fractional_intensity, out_dir)\n",
    "    qsm_rotated_axial_average = fn.tgv_qsm_me(mask_rotated_axial, pha_rotated_axial, echo_times, magnetic_field_strength, tgvqsm_erosions, out_dir)\n",
    "    qsm_rotated_axial_average_resampled_file = fn.resample_like(qsm_rotated_axial_average, mag_files[0])\n",
    "    \n",
    "    result_files[d] = [qsm_rotated_axial_average_resampled_file, qsm_rotated_average_resampled_file]"
   ]
  },
  {
   "cell_type": "markdown",
   "metadata": {},
   "source": [
    "### Measurements\n",
    "\n",
    "RMSE was measured across brain regions defined by segmentations provided with the original head phantom."
   ]
  },
  {
   "cell_type": "code",
   "execution_count": null,
   "metadata": {},
   "outputs": [],
   "source": [
    "# Segmentation labels\n",
    "labels = { \n",
    "    1 : \"Caudate\",\n",
    "    2 : \"Globus pallidus\",\n",
    "    3 : \"Putamen\",\n",
    "    4 : \"Red nucleus\",\n",
    "    5 : \"Dentate nucleus\",\n",
    "    6 : \"SN and STN\",\n",
    "    7 : \"Thalamus\",\n",
    "    8 : \"White matter\",\n",
    "    9 : \"Gray matter\",\n",
    "    10 : \"CSF\",\n",
    "    11 : \"Blood\",\n",
    "    12 : \"Fat\",\n",
    "    13 : \"Bone\",\n",
    "    14 : \"Air\",\n",
    "    15 : \"Muscle\",\n",
    "    16 : \"Calcification\"\n",
    "}\n",
    "\n",
    "# Load ground truth data\n",
    "segmentation = np.rot90(nib.load(segmentation_file).get_fdata())\n",
    "chi = np.rot90(nib.load(chi_file).get_fdata())\n",
    "qsm_average = np.rot90(nib.load(qsm_average_file).get_fdata())\n",
    "chi = chi * (qsm_average != 0)\n",
    "mask = qsm_average != 0\n",
    "\n",
    "# Calculate RMSE\n",
    "print(\"Calculating error metrics...\")\n",
    "columns = [\"Rotation\", \"Segmentation\", \"Corrected\", \"RMSE\"]\n",
    "rmse = np.array([0, 0, 0, mse(chi[mask], qsm_average[mask], squared=False)]).reshape(1,4)\n",
    "rmse = np.append(rmse, np.array([0, 0, 1, mse(chi[mask], qsm_average[mask], squared=False)]).reshape(1,4), axis=0)\n",
    "for label_id in labels.keys():\n",
    "    if np.any(chi[segmentation == label_id]):\n",
    "        rmse = np.append(rmse, np.array([0, label_id, 1, mse(chi[segmentation == label_id], qsm_average[segmentation == label_id], squared=False)]).reshape(1,4), axis=0)\n",
    "        rmse = np.append(rmse, np.array([0, label_id, 0, mse(chi[segmentation == label_id], qsm_average[segmentation == label_id], squared=False)]).reshape(1,4), axis=0)\n",
    "for d in degrees:\n",
    "    print(f\"Calculating error metrics for d={d}\")\n",
    "    qsm_corrected = np.rot90(nib.load(result_files[d][0]).get_fdata())\n",
    "    qsm_uncorrected = np.rot90(nib.load(result_files[d][1]).get_fdata())\n",
    "    rmse = np.append(rmse, np.array([d, 0, 1, mse(chi[mask], qsm_corrected[mask], squared=False)]).reshape(1,4), axis=0)\n",
    "    rmse = np.append(rmse, np.array([d, 0, 0, mse(chi[mask], qsm_uncorrected[mask], squared=False)]).reshape(1,4), axis=0)\n",
    "    for label_id in labels.keys():\n",
    "        if np.any(chi[segmentation == label_id]):\n",
    "            rmse = np.append(rmse, np.array([d, label_id, 1, mse(chi[segmentation == label_id], qsm_corrected[segmentation == label_id], squared=False)]).reshape(1,4), axis=0)\n",
    "            rmse = np.append(rmse, np.array([d, label_id, 0, mse(chi[segmentation == label_id], qsm_uncorrected[segmentation == label_id], squared=False)]).reshape(1,4), axis=0)\n",
    "rmse = pd.DataFrame(data=rmse, columns=columns)\n",
    "rmse[\"Corrected\"] = rmse[\"Corrected\"].replace(0, \"NoRot\").replace(1, \"RotPrior\")"
   ]
  },
  {
   "cell_type": "markdown",
   "metadata": {},
   "source": [
    "## Results\n",
    "\n",
    "RMSE measured in the head phantom indicates that the rotate-and-resample method (RotPrior) provides stable RMSEs across brain regions except in blood and CSF (see Figure 1). Conversely, no corrections (NoRot) cause increasing RMSE with the degree of rotation, particularly in deep gray matter (dGM) nuclei."
   ]
  },
  {
   "cell_type": "code",
   "execution_count": null,
   "metadata": {},
   "outputs": [],
   "source": [
    "print(\"Creating line plot...\")\n",
    "sns.set_style(\"darkgrid\")\n",
    "sns.set_context(\"paper\", rc={\"font.size\":12,\"axes.titlesize\":10,\"axes.labelsize\":10})\n",
    "fig, axes = plt.subplots(3,4, figsize=(12,8))\n",
    "fig.suptitle('RMSE with rotation, with and without rotate-and-resample using TGV-QSM')\n",
    "fig.supxlabel('Rotation (degrees)')\n",
    "fig.supylabel('RMSE (ppm)')\n",
    "index = 0\n",
    "for label_id in [0, 1, 2, 3, 4, 5, 6, 7, 8, 9, 10, 11]:\n",
    "    ylim=(0.0, 0.15)\n",
    "    xlim=(0, 45)\n",
    "    ax = axes[int(index / 4), index % 4]\n",
    "    plot = sns.lineplot(ax=ax, data=rmse[rmse.Segmentation == label_id], x=\"Rotation\", y=\"RMSE\", hue=\"Corrected\")\n",
    "    plot.set(xlabel=None)\n",
    "    plot.set(ylabel=None)\n",
    "    plot.set(ylim=ylim, xlim=xlim, title=labels[label_id] if label_id in labels else \"Whole brain\")\n",
    "    if index < 8:\n",
    "        plot.set(xticklabels=[])\n",
    "    if index % 4 != 0:\n",
    "        plot.set(yticklabels=[])\n",
    "    plot.tick_params(axis='both', which='major', labelsize=8)\n",
    "    plot.tick_params(axis='both', which='minor', labelsize=8)\n",
    "    plt.xlabel(\"\")\n",
    "    plot.get_legend().remove()\n",
    "    index += 1\n",
    "handles, labels_handle = plot.get_legend_handles_labels()\n",
    "plot.legend(handles, labels_handle, loc=(1.2, 3.025))\n",
    "#plt.savefig(f\"lineplot.png\", dpi=700, bbox_inches='tight')\n",
    "plt.show()\n",
    "plt.close()"
   ]
  },
  {
   "cell_type": "markdown",
   "metadata": {},
   "source": [
    "Difference imaging visualises the spatial distribution of changes in susceptibility quantification and smearing artefacts in dGM regions as the degree of rotation increases (see Figure 2). "
   ]
  },
  {
   "cell_type": "code",
   "execution_count": null,
   "metadata": {},
   "outputs": [],
   "source": [
    "print(\"Creating diff image figure...\")\n",
    "#plt.figure()\n",
    "sns.set_style(\"darkgrid\")\n",
    "sns.set_context(\"paper\", rc={\"font.size\":13,\"axes.titlesize\":13,\"axes.labelsize\":13})\n",
    "fig, axes = plt.subplots(4, 5, figsize=[10,10])\n",
    "fig.suptitle('QSM computed using TGV-QSM using simulated data rotated to various angles')\n",
    "slc = 102\n",
    "vmin = -0.1\n",
    "vmax = +0.1\n",
    "\n",
    "axes[0,0].set_ylabel(\"QSM at θ\", rotation=0, horizontalalignment='right')\n",
    "axes[0,0].set_title(\"0°\")\n",
    "axes[0,0].imshow(qsm_average[:,:,slc], cmap='gray', vmin=vmin, vmax=vmax, interpolation='nearest')\n",
    "axes[0,1].set_title(\"5°\")\n",
    "axes[0,1].imshow(np.rot90(nib.load(result_files[5][1]).get_fdata()[:,:,slc]), cmap='gray', vmin=vmin, vmax=vmax, interpolation='nearest')\n",
    "axes[0,2].set_title(\"10°\")\n",
    "axes[0,2].imshow(np.rot90(nib.load(result_files[10][1]).get_fdata()[:,:,slc]), cmap='gray', vmin=vmin, vmax=vmax, interpolation='nearest')\n",
    "axes[0,3].set_title(\"15°\")\n",
    "axes[0,3].imshow(np.rot90(nib.load(result_files[15][1]).get_fdata()[:,:,slc]), cmap='gray', vmin=vmin, vmax=vmax, interpolation='nearest')\n",
    "axes[0,4].set_title(\"20°\")\n",
    "axes[0,4].imshow(np.rot90(nib.load(result_files[20][1]).get_fdata()[:,:,slc]), cmap='gray', vmin=vmin, vmax=vmax, interpolation='nearest')\n",
    "\n",
    "axes[1,0].set_ylabel(\"Diff vs. 0°\", rotation=0, horizontalalignment='right')\n",
    "axes[1,0].imshow(qsm_average[:,:,slc] - qsm_average[:,:,slc], cmap='seismic', vmin=vmin, vmax=vmax)\n",
    "axes[1,1].imshow(qsm_average[:,:,slc] - np.rot90(nib.load(result_files[5][1]).get_fdata()[:,:,slc]), cmap='seismic', vmin=vmin, vmax=vmax, interpolation='nearest')\n",
    "axes[1,2].imshow(qsm_average[:,:,slc] - np.rot90(nib.load(result_files[10][1]).get_fdata()[:,:,slc]), cmap='seismic', vmin=vmin, vmax=vmax, interpolation='nearest')\n",
    "axes[1,3].imshow(qsm_average[:,:,slc] - np.rot90(nib.load(result_files[15][1]).get_fdata()[:,:,slc]), cmap='seismic', vmin=vmin, vmax=vmax, interpolation='nearest')\n",
    "axes[1,4].imshow(qsm_average[:,:,slc] - np.rot90(nib.load(result_files[20][1]).get_fdata()[:,:,slc]), cmap='seismic', vmin=vmin, vmax=vmax, interpolation='nearest')\n",
    "\n",
    "axes[2,0].set_title(\"25°\")\n",
    "axes[2,0].set_ylabel(\"QSM at θ\", rotation=0, horizontalalignment='right')\n",
    "axes[2,0].imshow(np.rot90(nib.load(result_files[25][1]).get_fdata()[:,:,slc]), cmap='gray', vmin=vmin, vmax=vmax, interpolation='nearest')\n",
    "axes[2,1].set_title(\"30°\")\n",
    "axes[2,1].imshow(np.rot90(nib.load(result_files[30][1]).get_fdata()[:,:,slc]), cmap='gray', vmin=vmin, vmax=vmax, interpolation='nearest')\n",
    "axes[2,2].set_title(\"35°\")\n",
    "axes[2,2].imshow(np.rot90(nib.load(result_files[35][1]).get_fdata()[:,:,slc]), cmap='gray', vmin=vmin, vmax=vmax, interpolation='nearest')\n",
    "axes[2,3].set_title(\"40°\")\n",
    "axes[2,3].imshow(np.rot90(nib.load(result_files[40][1]).get_fdata()[:,:,slc]), cmap='gray', vmin=vmin, vmax=vmax, interpolation='nearest')\n",
    "axes[2,4].set_title(\"45°\")\n",
    "im1 = axes[2,4].imshow(np.rot90(nib.load(result_files[45][1]).get_fdata()[:,:,slc]), cmap='gray', vmin=vmin, vmax=vmax, interpolation='nearest')\n",
    "\n",
    "axes[3,0].set_ylabel(\"Diff vs. 0°\", rotation=0, horizontalalignment='right')\n",
    "axes[3,0].imshow(qsm_average[:,:,slc] - np.rot90(nib.load(result_files[25][1]).get_fdata()[:,:,slc]), cmap='seismic', vmin=vmin, vmax=vmax, interpolation='nearest')\n",
    "axes[3,1].imshow(qsm_average[:,:,slc] - np.rot90(nib.load(result_files[30][1]).get_fdata()[:,:,slc]), cmap='seismic', vmin=vmin, vmax=vmax, interpolation='nearest')\n",
    "axes[3,2].imshow(qsm_average[:,:,slc] - np.rot90(nib.load(result_files[35][1]).get_fdata()[:,:,slc]), cmap='seismic', vmin=vmin, vmax=vmax, interpolation='nearest')\n",
    "axes[3,3].imshow(qsm_average[:,:,slc] - np.rot90(nib.load(result_files[40][1]).get_fdata()[:,:,slc]), cmap='seismic', vmin=vmin, vmax=vmax, interpolation='nearest')\n",
    "im2 = axes[3,4].imshow(qsm_average[:,:,slc] - np.rot90(nib.load(result_files[45][1]).get_fdata()[:,:,slc]), cmap='seismic', vmin=vmin, vmax=vmax, interpolation='nearest')\n",
    "\n",
    "for row in axes:\n",
    "    for ax in row:\n",
    "        ax.tick_params(which='both', left=False, right=False, labelbottom=False, labelleft=False, grid_alpha=0)\n",
    "\n",
    "cax1 = fig.add_axes([0.265,0.050,0.5,0.025])\n",
    "cax2 = fig.add_axes([0.265,0.075,0.5,0.025])\n",
    "cax1.set_frame_on(True)\n",
    "cax2.set_frame_on(True)\n",
    "cbar1 = fig.colorbar(im1, orientation='horizontal', cax=cax1)\n",
    "cbar2 = fig.colorbar(im2, orientation='horizontal', cax=cax2)\n",
    "cbar2.set_ticks([])\n",
    "cbar1.ax.locator_params(nbins=3)\n",
    "cbar2.ax.locator_params(nbins=3)\n",
    "cbar1.ax.tick_params(labelsize=10)\n",
    "cbar2.ax.tick_params(labelsize=10)\n",
    "\n",
    "#plt.savefig(f\"diff-images.png\", dpi=700, bbox_inches='tight')\n",
    "plt.show()\n",
    "plt.close()"
   ]
  },
  {
   "cell_type": "markdown",
   "metadata": {},
   "source": [
    "## Discussion and conclusions\n",
    "\n",
    "Our experiment validates that the rotate-and-resample method1 results in stable susceptibility quantification across most brain regions. Further, small, high-susceptibility sources such as blood in veins were found to be more challenging to recover after resampling, which may be explained by reduced phase accuracy after interpolation in the complex domain. Our publicly available implementation of the method in QSMxT makes it available and practical for users wishing to reconstruct QSM for acquisitions with oblique slice orientations."
   ]
  },
  {
   "cell_type": "markdown",
   "metadata": {},
   "source": [
    "## References\n",
    "\n",
    "1] Kiersnowski et al. ISMRM 2021, Abstract 794. 2] Stewart et al., Mag. Reson. Med., 2022. 3] Stewart et al., QSMxT, GitHub, 2022. 4] Marques et al., Mag. Reson. Med., 2021. 6] Langkammer et al., NeuroImage, 2015."
   ]
  }
 ],
 "metadata": {
  "kernelspec": {
   "display_name": "Python 3.8.13 ('2022-qsm-orientation-abstract')",
   "language": "python",
   "name": "python3"
  },
  "language_info": {
   "codemirror_mode": {
    "name": "ipython",
    "version": 3
   },
   "file_extension": ".py",
   "mimetype": "text/x-python",
   "name": "python",
   "nbconvert_exporter": "python",
   "pygments_lexer": "ipython3",
   "version": "3.8.13"
  },
  "orig_nbformat": 4,
  "vscode": {
   "interpreter": {
    "hash": "8cdeb3b2bbd7ca8270cb7c262444013e927c40a490a52bc955e286184c77c57f"
   }
  }
 },
 "nbformat": 4,
 "nbformat_minor": 2
}
