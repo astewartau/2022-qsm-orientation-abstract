{
 "cells": [
  {
   "cell_type": "code",
   "execution_count": 1,
   "metadata": {},
   "outputs": [],
   "source": [
    "import os\n",
    "import glob\n",
    "import tempfile\n",
    "import abstract_functions as fn"
   ]
  },
  {
   "cell_type": "code",
   "execution_count": 2,
   "metadata": {},
   "outputs": [
    {
     "name": "stdout",
     "output_type": "stream",
     "text": [
      "Downloaded BIDS data to /tmp/bids-osf.\n"
     ]
    }
   ],
   "source": [
    "bids_dir = fn.get_bids_data()\n",
    "print(f\"Downloaded BIDS data to {bids_dir}.\")"
   ]
  },
  {
   "cell_type": "code",
   "execution_count": 3,
   "metadata": {},
   "outputs": [],
   "source": [
    "echo_times = [0.004, 0.012, 0.020, 0.028]\n",
    "magnetic_field_strength = 3\n",
    "tgvqsm_erosions = 3\n",
    "bet_fractional_intensity = 0.5"
   ]
  },
  {
   "cell_type": "code",
   "execution_count": 4,
   "metadata": {},
   "outputs": [
    {
     "name": "stdout",
     "output_type": "stream",
     "text": [
      "Found 4 magnitude and phase image pairs.\n"
     ]
    }
   ],
   "source": [
    "session_path = os.path.join(bids_dir, \"sub-1\", \"ses-1\")\n",
    "anat_path = os.path.join(session_path, \"anat\")\n",
    "extra_data_path = os.path.join(session_path, \"extra_data\")\n",
    "chi_file = os.path.join(extra_data_path, \"sub-1_ses-1_run-01_chi-cropped.nii.gz\")\n",
    "segmentation_file = os.path.join(extra_data_path, \"sub-1_ses-1_run-01_segmentation.nii.gz\")\n",
    "mag_files = sorted(glob.glob(os.path.join(anat_path, \"sub-1_ses-1_run-01_echo-*_part-mag_MEGRE.nii.gz\")))\n",
    "pha_files = sorted(glob.glob(os.path.join(anat_path, \"sub-1_ses-1_run-01_echo-*_part-phase_MEGRE.nii.gz\")))\n",
    "assert(len(mag_files) == len(pha_files))\n",
    "tmp_dir = tempfile.gettempdir()\n",
    "print(f\"Found {len(mag_files)} magnitude and phase image pairs.\")"
   ]
  },
  {
   "cell_type": "code",
   "execution_count": 5,
   "metadata": {},
   "outputs": [
    {
     "name": "stdout",
     "output_type": "stream",
     "text": [
      "Creating rotated input images (1 degrees)\n",
      "Rotating data 1 degrees and resampling...\n",
      "Resampling rotated data to axial...\n",
      "Creating rotated input images (2 degrees)\n",
      "Rotating data 2 degrees and resampling...\n",
      "Resampling rotated data to axial...\n",
      "Creating rotated input images (3 degrees)\n",
      "Rotating data 3 degrees and resampling...\n",
      "Resampling rotated data to axial...\n",
      "Creating rotated input images (4 degrees)\n",
      "Rotating data 4 degrees and resampling...\n",
      "Resampling rotated data to axial...\n",
      "Creating rotated input images (5 degrees)\n",
      "Rotating data 5 degrees and resampling...\n",
      "Resampling rotated data to axial...\n",
      "Creating rotated input images (10 degrees)\n",
      "Rotating data 10 degrees and resampling...\n",
      "Resampling rotated data to axial...\n",
      "Creating rotated input images (15 degrees)\n",
      "Rotating data 15 degrees and resampling...\n",
      "Resampling rotated data to axial...\n",
      "Creating rotated input images (20 degrees)\n",
      "Rotating data 20 degrees and resampling...\n",
      "Resampling rotated data to axial...\n",
      "Creating rotated input images (25 degrees)\n",
      "Rotating data 25 degrees and resampling...\n",
      "Resampling rotated data to axial...\n",
      "Creating rotated input images (30 degrees)\n",
      "Rotating data 30 degrees and resampling...\n",
      "Resampling rotated data to axial...\n",
      "Creating rotated input images (35 degrees)\n",
      "Rotating data 35 degrees and resampling...\n",
      "Resampling rotated data to axial...\n",
      "Creating rotated input images (40 degrees)\n",
      "Rotating data 40 degrees and resampling...\n",
      "Resampling rotated data to axial...\n",
      "Creating rotated input images (45 degrees)\n",
      "Rotating data 45 degrees and resampling...\n",
      "Resampling rotated data to axial...\n"
     ]
    }
   ],
   "source": [
    "# create augmented data\n",
    "degrees = [1, 2, 3, 4, 5, 10, 15, 20, 25, 30, 35, 40, 45]\n",
    "for d in degrees:\n",
    "    print(f\"Creating rotated input images ({d} degrees)\")\n",
    "    out_dir = os.path.join(tmp_dir, f\"inputs-rotated-{d}-degrees\")\n",
    "    print(f\"Rotating data {d} degrees and resampling...\")\n",
    "    mag_rotated, pha_rotated = fn.rotate_mag_phase(mag_files, pha_files, out_dir, d)\n",
    "    print(f\"Resampling rotated data to axial...\")\n",
    "    mag_rotated_axial, pha_rotated_axial = fn.resample_to_axial(mag_rotated, pha_rotated, out_dir)"
   ]
  },
  {
   "cell_type": "code",
   "execution_count": 6,
   "metadata": {},
   "outputs": [
    {
     "name": "stdout",
     "output_type": "stream",
     "text": [
      "BET masking for original data...\n",
      "QSM reconstruction for original data...\n",
      "singularity exec /neurocommand/local/containers/qsmxt_1.1.13_20221020/qsmxt_1.1.13_20221020.simg tgv_qsm -t 0.004 --alpha 0.0015 0.0005  -i 1000 -f 3 -e 3 --ignore-orientation --no-resampling -m /tmp/bids-osf/sub-1/ses-1/extra_data/sub-1_ses-1_run-01_echo-01_part-mag_MEGRE_bet-mask.nii.gz -o _qsm -p /tmp/bids-osf/sub-1/ses-1/anat/sub-1_ses-1_run-01_echo-01_part-phase_MEGRE.nii.gz\n"
     ]
    },
    {
     "name": "stderr",
     "output_type": "stream",
     "text": [
      " >>>>  TGV-QSM  <<<<< \n",
      "-----------------------------------------\n",
      "loading files...\n",
      "  phase: /tmp/bids-osf/sub-1/ses-1/anat/sub-1_ses-1_run-01_echo-01_part-phase_MEGRE.nii.gz\n",
      "  mask:  /tmp/bids-osf/sub-1/ses-1/extra_data/sub-1_ses-1_run-01_echo-01_part-mag_MEGRE_bet-mask.nii.gz\n",
      "  output: /tmp/bids-osf/sub-1/ses-1/anat/sub-1_ses-1_run-01_echo-01_part-phase_MEGRE_qsm_{number:03d}.nii.gz\n",
      "Data looks good!\n",
      "Processing initial laplacian of /tmp/bids-osf/sub-1/ses-1/anat/sub-1_ses-1_run-01_echo-01_part-phase_MEGRE.nii.gz ...\n",
      "Processing QSM /tmp/bids-osf/sub-1/ses-1/anat/sub-1_ses-1_run-01_echo-01_part-phase_MEGRE.nii.gz ...\n",
      "Factor 1.0 (1 of 1) - alpha = (0.0015, 0.0005)\n",
      "  Saved /tmp/bids-osf/sub-1/ses-1/anat/sub-1_ses-1_run-01_echo-01_part-phase_MEGRE_qsm_000.nii.gz\n",
      "Finished!\n"
     ]
    },
    {
     "name": "stdout",
     "output_type": "stream",
     "text": [
      "RESULT_STDERR None\n",
      "  Iterations: 1000 (1 of 1)\n",
      "singularity exec /neurocommand/local/containers/qsmxt_1.1.13_20221020/qsmxt_1.1.13_20221020.simg tgv_qsm -t 0.012 --alpha 0.0015 0.0005  -i 1000 -f 3 -e 3 --ignore-orientation --no-resampling -m /tmp/bids-osf/sub-1/ses-1/extra_data/sub-1_ses-1_run-01_echo-01_part-mag_MEGRE_bet-mask.nii.gz -o _qsm -p /tmp/bids-osf/sub-1/ses-1/anat/sub-1_ses-1_run-01_echo-02_part-phase_MEGRE.nii.gz\n"
     ]
    },
    {
     "name": "stderr",
     "output_type": "stream",
     "text": [
      " >>>>  TGV-QSM  <<<<< \n",
      "-----------------------------------------\n",
      "loading files...\n",
      "  phase: /tmp/bids-osf/sub-1/ses-1/anat/sub-1_ses-1_run-01_echo-02_part-phase_MEGRE.nii.gz\n",
      "  mask:  /tmp/bids-osf/sub-1/ses-1/extra_data/sub-1_ses-1_run-01_echo-01_part-mag_MEGRE_bet-mask.nii.gz\n",
      "  output: /tmp/bids-osf/sub-1/ses-1/anat/sub-1_ses-1_run-01_echo-02_part-phase_MEGRE_qsm_{number:03d}.nii.gz\n",
      "Data looks good!\n",
      "Processing initial laplacian of /tmp/bids-osf/sub-1/ses-1/anat/sub-1_ses-1_run-01_echo-02_part-phase_MEGRE.nii.gz ...\n",
      "Processing QSM /tmp/bids-osf/sub-1/ses-1/anat/sub-1_ses-1_run-01_echo-02_part-phase_MEGRE.nii.gz ...\n",
      "Factor 1.0 (1 of 1) - alpha = (0.0015, 0.0005)\n",
      "  Saved /tmp/bids-osf/sub-1/ses-1/anat/sub-1_ses-1_run-01_echo-02_part-phase_MEGRE_qsm_000.nii.gz\n",
      "Finished!\n"
     ]
    },
    {
     "name": "stdout",
     "output_type": "stream",
     "text": [
      "RESULT_STDERR None\n",
      "  Iterations: 1000 (1 of 1)\n",
      "singularity exec /neurocommand/local/containers/qsmxt_1.1.13_20221020/qsmxt_1.1.13_20221020.simg tgv_qsm -t 0.02 --alpha 0.0015 0.0005  -i 1000 -f 3 -e 3 --ignore-orientation --no-resampling -m /tmp/bids-osf/sub-1/ses-1/extra_data/sub-1_ses-1_run-01_echo-01_part-mag_MEGRE_bet-mask.nii.gz -o _qsm -p /tmp/bids-osf/sub-1/ses-1/anat/sub-1_ses-1_run-01_echo-03_part-phase_MEGRE.nii.gz\n"
     ]
    },
    {
     "name": "stderr",
     "output_type": "stream",
     "text": [
      " >>>>  TGV-QSM  <<<<< \n",
      "-----------------------------------------\n",
      "loading files...\n",
      "  phase: /tmp/bids-osf/sub-1/ses-1/anat/sub-1_ses-1_run-01_echo-03_part-phase_MEGRE.nii.gz\n",
      "  mask:  /tmp/bids-osf/sub-1/ses-1/extra_data/sub-1_ses-1_run-01_echo-01_part-mag_MEGRE_bet-mask.nii.gz\n",
      "  output: /tmp/bids-osf/sub-1/ses-1/anat/sub-1_ses-1_run-01_echo-03_part-phase_MEGRE_qsm_{number:03d}.nii.gz\n",
      "Data looks good!\n",
      "Processing initial laplacian of /tmp/bids-osf/sub-1/ses-1/anat/sub-1_ses-1_run-01_echo-03_part-phase_MEGRE.nii.gz ...\n",
      "Processing QSM /tmp/bids-osf/sub-1/ses-1/anat/sub-1_ses-1_run-01_echo-03_part-phase_MEGRE.nii.gz ...\n",
      "Factor 1.0 (1 of 1) - alpha = (0.0015, 0.0005)\n"
     ]
    }
   ],
   "source": [
    "print(\"BET masking for original data...\")\n",
    "mask_file = fn.bet_masking(mag_files[0], bet_fractional_intensity, extra_data_path)\n",
    "print(\"QSM reconstruction for original data...\")\n",
    "qsm_average_file = fn.tgv_qsm_me(mask_file, pha_files, echo_times, magnetic_field_strength, tgvqsm_erosions, extra_data_path)"
   ]
  },
  {
   "cell_type": "code",
   "execution_count": null,
   "metadata": {},
   "outputs": [],
   "source": [
    "\n",
    "result_files = { }\n",
    "for d in degrees:\n",
    "    out_dir = os.path.join(extra_data_path, f\"inputs-rotated-{d}-degrees\")\n",
    "    mag_rotated, pha_rotated = rotate_mag_phase(mag_files, pha_files, out_dir, d)\n",
    "    mag_rotated_axial, pha_rotated_axial = resample_to_axial(mag_rotated, pha_rotated, out_dir)\n",
    "\n",
    "    print(\"BET masking rotated data...\")\n",
    "    mask_rotated = bet_masking(mag_rotated[0], fractional_intensity, out_dir)\n",
    "    print(\"Reconstructing QSM for rotated data...\")\n",
    "    qsm_rotated_average = tgv_qsm_me(mask_rotated, pha_rotated, TEs, B0_str, eros, out_dir)\n",
    "    #qsm_rotated_average = nextqsm_me(mask_rotated, pha_rotated, TEs, B0_str, eros, out_dir) #TODO REMOVE\n",
    "    print(\"Resampling QSM to original space...\")\n",
    "    qsm_rotated_average_resampled_file = resample_like(qsm_rotated_average, mag_files[0])\n",
    "\n",
    "    print(\"BET masking resampled-to-axial data...\")\n",
    "    mask_rotated_axial = bet_masking(mag_rotated_axial[0], fractional_intensity, out_dir)\n",
    "    print(\"Reconstructing QSM for resampled-to-axial data...\")\n",
    "    qsm_rotated_axial_average = tgv_qsm_me(mask_rotated_axial, pha_rotated_axial, TEs, B0_str, eros, out_dir)\n",
    "    #qsm_rotated_axial_average = nextqsm_me(mask_rotated_axial, pha_rotated_axial, TEs, B0_str, eros, out_dir)\n",
    "    print(\"Resampling QSM to original space...\")\n",
    "    qsm_rotated_axial_average_resampled_file = resample_like(qsm_rotated_axial_average, mag_files[0])\n",
    "    \n",
    "    result_files[d] = [qsm_rotated_axial_average_resampled_file, qsm_rotated_average_resampled_file]"
   ]
  },
  {
   "cell_type": "code",
   "execution_count": null,
   "metadata": {},
   "outputs": [],
   "source": [
    "labels = { \n",
    "    1 : \"Caudate\",\n",
    "    2 : \"Globus pallidus\",\n",
    "    3 : \"Putamen\",\n",
    "    4 : \"Red nucleus\",\n",
    "    5 : \"Dentate nucleus\",\n",
    "    6 : \"SN and STN\",\n",
    "    7 : \"Thalamus\",\n",
    "    8 : \"White matter\",\n",
    "    9 : \"Gray matter\",\n",
    "    10 : \"CSF\",\n",
    "    11 : \"Blood\",\n",
    "    12 : \"Fat\",\n",
    "    13 : \"Bone\",\n",
    "    14 : \"Air\",\n",
    "    15 : \"Muscle\",\n",
    "    16 : \"Calcification\"\n",
    "}\n",
    "\n",
    "# load ground truth data\n",
    "segmentation = np.rot90(nib.load(segmentation_file).get_fdata())\n",
    "chi = np.rot90(nib.load(chi_file).get_fdata())\n",
    "qsm_average = np.rot90(nib.load(qsm_average_file).get_fdata())\n",
    "chi = chi * (qsm_average != 0)\n",
    "mask = qsm_average != 0\n",
    "\n",
    "# Rotation Segmentation RMSE\n",
    "print(\"Calculating error metrics...\")\n",
    "columns = [\"Rotation\", \"Segmentation\", \"Corrected\", \"RMSE\"]\n",
    "rmse = np.array([0, 0, 0, mse(chi[mask], qsm_average[mask], squared=False)]).reshape(1,4)\n",
    "rmse = np.append(rmse, np.array([0, 0, 1, mse(chi[mask], qsm_average[mask], squared=False)]).reshape(1,4), axis=0)\n",
    "for label_id in labels.keys():\n",
    "    if np.any(chi[segmentation == label_id]):\n",
    "        rmse = np.append(rmse, np.array([0, label_id, 1, mse(chi[segmentation == label_id], qsm_average[segmentation == label_id], squared=False)]).reshape(1,4), axis=0)\n",
    "        rmse = np.append(rmse, np.array([0, label_id, 0, mse(chi[segmentation == label_id], qsm_average[segmentation == label_id], squared=False)]).reshape(1,4), axis=0)\n",
    "for d in degrees:\n",
    "    print(f\"Calculating error metrics for d={d}\")\n",
    "    qsm_corrected = np.rot90(nib.load(result_files[d][0]).get_fdata())\n",
    "    qsm_uncorrected = np.rot90(nib.load(result_files[d][1]).get_fdata())\n",
    "    rmse = np.append(rmse, np.array([d, 0, 1, mse(chi[mask], qsm_corrected[mask], squared=False)]).reshape(1,4), axis=0)\n",
    "    rmse = np.append(rmse, np.array([d, 0, 0, mse(chi[mask], qsm_uncorrected[mask], squared=False)]).reshape(1,4), axis=0)\n",
    "    for label_id in labels.keys():\n",
    "        if np.any(chi[segmentation == label_id]):\n",
    "            rmse = np.append(rmse, np.array([d, label_id, 1, mse(chi[segmentation == label_id], qsm_corrected[segmentation == label_id], squared=False)]).reshape(1,4), axis=0)\n",
    "            rmse = np.append(rmse, np.array([d, label_id, 0, mse(chi[segmentation == label_id], qsm_uncorrected[segmentation == label_id], squared=False)]).reshape(1,4), axis=0)\n",
    "rmse = pd.DataFrame(data=rmse, columns=columns)\n",
    "rmse[\"Corrected\"] = rmse[\"Corrected\"].replace(0, \"NoRot\").replace(1, \"RotPrior\")\n",
    "\n",
    "print(\"Creating line plot...\")\n",
    "sns.set_style(\"darkgrid\")\n",
    "sns.set_context(\"paper\", rc={\"font.size\":8,\"axes.titlesize\":7,\"axes.labelsize\":5})\n",
    "fig, axes = plt.subplots(3,4)\n",
    "fig.suptitle('RMSE with rotation, with and without rotate-and-resample using TGV-QSM')\n",
    "fig.supxlabel('Rotation (degrees)')\n",
    "fig.supylabel('RMSE (ppm)')\n",
    "index = 0\n",
    "for label_id in [0, 1, 2, 3, 4, 5, 6, 7, 8, 9, 10, 11]:\n",
    "    ylim=(0.0, 0.15)\n",
    "    xlim=(0, 45)\n",
    "    ax = axes[int(index / 4), index % 4]\n",
    "    plot = sns.lineplot(ax=ax, data=rmse[rmse.Segmentation == label_id], x=\"Rotation\", y=\"RMSE\", hue=\"Corrected\")\n",
    "    plot.set(xlabel=None)\n",
    "    plot.set(ylabel=None)\n",
    "    plot.set(ylim=ylim, xlim=xlim, title=labels[label_id] if label_id in labels else \"Whole brain\")\n",
    "    if index < 8:\n",
    "        plot.set(xticklabels=[])\n",
    "    if index % 4 != 0:\n",
    "        plot.set(yticklabels=[])\n",
    "    plot.tick_params(axis='both', which='major', labelsize=4)\n",
    "    plot.tick_params(axis='both', which='minor', labelsize=4)\n",
    "    plt.xlabel(\"\")\n",
    "    plot.get_legend().remove()\n",
    "    index += 1\n",
    "handles, labels = plot.get_legend_handles_labels()\n",
    "plot.legend(handles, labels, loc=(1.2, 3.025))\n",
    "plt.savefig(f\"lineplot.png\", dpi=700, bbox_inches='tight')\n",
    "plt.close()\n",
    "\n",
    "print(\"Creating diff image figure...\")\n",
    "plt.figure()\n",
    "sns.set_style(\"darkgrid\")\n",
    "sns.set_context(\"paper\", rc={\"font.size\":13,\"axes.titlesize\":13,\"axes.labelsize\":13})\n",
    "fig, axes = plt.subplots(4, 5, figsize=[10,10])\n",
    "fig.suptitle('QSM computed using TGV-QSM using simulated data rotated to various angles')\n",
    "slc = 102\n",
    "vmin = -0.1\n",
    "vmax = +0.1\n",
    "\n",
    "axes[0,0].set_ylabel(\"QSM at θ\", rotation=0, horizontalalignment='right')\n",
    "axes[0,0].set_title(\"0°\")\n",
    "axes[0,0].imshow(qsm_average[:,:,slc], cmap='gray', vmin=vmin, vmax=vmax)\n",
    "axes[0,1].set_title(\"5°\")\n",
    "axes[0,1].imshow(np.rot90(nib.load(result_files[5][1]).get_fdata()[:,:,slc]), cmap='gray', vmin=vmin, vmax=vmax)\n",
    "axes[0,2].set_title(\"10°\")\n",
    "axes[0,2].imshow(np.rot90(nib.load(result_files[10][1]).get_fdata()[:,:,slc]), cmap='gray', vmin=vmin, vmax=vmax)\n",
    "axes[0,3].set_title(\"15°\")\n",
    "axes[0,3].imshow(np.rot90(nib.load(result_files[15][1]).get_fdata()[:,:,slc]), cmap='gray', vmin=vmin, vmax=vmax)\n",
    "axes[0,4].set_title(\"20°\")\n",
    "axes[0,4].imshow(np.rot90(nib.load(result_files[20][1]).get_fdata()[:,:,slc]), cmap='gray', vmin=vmin, vmax=vmax)\n",
    "\n",
    "axes[1,0].set_ylabel(\"Diff vs. 0°\", rotation=0, horizontalalignment='right')\n",
    "axes[1,0].imshow(qsm_average[:,:,slc] - qsm_average[:,:,slc], cmap='seismic', vmin=vmin, vmax=vmax)\n",
    "axes[1,1].imshow(qsm_average[:,:,slc] - np.rot90(nib.load(result_files[5][1]).get_fdata()[:,:,slc]), cmap='seismic', vmin=vmin, vmax=vmax)\n",
    "axes[1,2].imshow(qsm_average[:,:,slc] - np.rot90(nib.load(result_files[10][1]).get_fdata()[:,:,slc]), cmap='seismic', vmin=vmin, vmax=vmax)\n",
    "axes[1,3].imshow(qsm_average[:,:,slc] - np.rot90(nib.load(result_files[15][1]).get_fdata()[:,:,slc]), cmap='seismic', vmin=vmin, vmax=vmax)\n",
    "axes[1,4].imshow(qsm_average[:,:,slc] - np.rot90(nib.load(result_files[20][1]).get_fdata()[:,:,slc]), cmap='seismic', vmin=vmin, vmax=vmax)\n",
    "\n",
    "axes[2,0].set_title(\"25°\")\n",
    "axes[2,0].set_ylabel(\"QSM at θ\", rotation=0, horizontalalignment='right')\n",
    "axes[2,0].imshow(np.rot90(nib.load(result_files[25][1]).get_fdata()[:,:,slc]), cmap='gray', vmin=vmin, vmax=vmax)\n",
    "axes[2,1].set_title(\"30°\")\n",
    "axes[2,1].imshow(np.rot90(nib.load(result_files[30][1]).get_fdata()[:,:,slc]), cmap='gray', vmin=vmin, vmax=vmax)\n",
    "axes[2,2].set_title(\"35°\")\n",
    "axes[2,2].imshow(np.rot90(nib.load(result_files[35][1]).get_fdata()[:,:,slc]), cmap='gray', vmin=vmin, vmax=vmax)\n",
    "axes[2,3].set_title(\"40°\")\n",
    "axes[2,3].imshow(np.rot90(nib.load(result_files[40][1]).get_fdata()[:,:,slc]), cmap='gray', vmin=vmin, vmax=vmax)\n",
    "axes[2,4].set_title(\"45°\")\n",
    "im1 = axes[2,4].imshow(np.rot90(nib.load(result_files[45][1]).get_fdata()[:,:,slc]), cmap='gray', vmin=vmin, vmax=vmax)\n",
    "\n",
    "axes[3,0].set_ylabel(\"Diff vs. 0°\", rotation=0, horizontalalignment='right')\n",
    "axes[3,0].imshow(qsm_average[:,:,slc] - np.rot90(nib.load(result_files[25][1]).get_fdata()[:,:,slc]), cmap='seismic', vmin=vmin, vmax=vmax)\n",
    "axes[3,1].imshow(qsm_average[:,:,slc] - np.rot90(nib.load(result_files[30][1]).get_fdata()[:,:,slc]), cmap='seismic', vmin=vmin, vmax=vmax)\n",
    "axes[3,2].imshow(qsm_average[:,:,slc] - np.rot90(nib.load(result_files[35][1]).get_fdata()[:,:,slc]), cmap='seismic', vmin=vmin, vmax=vmax)\n",
    "axes[3,3].imshow(qsm_average[:,:,slc] - np.rot90(nib.load(result_files[40][1]).get_fdata()[:,:,slc]), cmap='seismic', vmin=vmin, vmax=vmax)\n",
    "im2 = axes[3,4].imshow(qsm_average[:,:,slc] - np.rot90(nib.load(result_files[45][1]).get_fdata()[:,:,slc]), cmap='seismic', vmin=vmin, vmax=vmax)\n",
    "\n",
    "for row in axes:\n",
    "    for ax in row:\n",
    "        ax.tick_params(which='both', left=False, right=False, labelbottom=False, labelleft=False, grid_alpha=0)\n",
    "\n",
    "cax1 = fig.add_axes([0.265,0.050,0.5,0.025])\n",
    "cax2 = fig.add_axes([0.265,0.075,0.5,0.025])\n",
    "cax1.set_frame_on(True)\n",
    "cax2.set_frame_on(True)\n",
    "cbar1 = fig.colorbar(im1, orientation='horizontal', cax=cax1)\n",
    "cbar2 = fig.colorbar(im2, orientation='horizontal', cax=cax2)\n",
    "cbar2.set_ticks([])\n",
    "cbar1.ax.locator_params(nbins=3)\n",
    "cbar2.ax.locator_params(nbins=3)\n",
    "cbar1.ax.tick_params(labelsize=10)\n",
    "cbar2.ax.tick_params(labelsize=10)\n",
    "\n",
    "plt.savefig(f\"diff-images.png\", dpi=700, bbox_inches='tight')"
   ]
  }
 ],
 "metadata": {
  "kernelspec": {
   "display_name": "Python 3.8.13 ('2022-qsm-orientation-abstract')",
   "language": "python",
   "name": "python3"
  },
  "language_info": {
   "codemirror_mode": {
    "name": "ipython",
    "version": 3
   },
   "file_extension": ".py",
   "mimetype": "text/x-python",
   "name": "python",
   "nbconvert_exporter": "python",
   "pygments_lexer": "ipython3",
   "version": "3.8.13"
  },
  "orig_nbformat": 4,
  "vscode": {
   "interpreter": {
    "hash": "8cdeb3b2bbd7ca8270cb7c262444013e927c40a490a52bc955e286184c77c57f"
   }
  }
 },
 "nbformat": 4,
 "nbformat_minor": 2
}
